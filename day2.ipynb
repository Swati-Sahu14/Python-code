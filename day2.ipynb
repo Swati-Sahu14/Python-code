{
 "cells": [
  {
   "cell_type": "code",
   "execution_count": 4,
   "id": "a7c42876-350e-4333-9473-1686a2d55ba9",
   "metadata": {},
   "outputs": [
    {
     "name": "stdin",
     "output_type": "stream",
     "text": [
      "enter your name: swati\n",
      "enter your age: 19\n"
     ]
    },
    {
     "name": "stdout",
     "output_type": "stream",
     "text": [
      "swati\n",
      "your are eligible\n"
     ]
    }
   ],
   "source": [
    "name=input(\"enter your name:\")\n",
    "age=int(input(\"enter your age:\"))\n",
    "if age>=18:\n",
    "      print(name)\n",
    "      print(\"your are eligible\")\n",
    "else:\n",
    "      print(name)\n",
    "      print(\"you are not eligible\")\n",
    "       "
   ]
  },
  {
   "cell_type": "code",
   "execution_count": 6,
   "id": "a28b14de-685f-4ad6-bc6d-fda8626982d3",
   "metadata": {},
   "outputs": [
    {
     "name": "stdin",
     "output_type": "stream",
     "text": [
      "enter the value 5\n",
      "enter the value 3\n"
     ]
    },
    {
     "name": "stdout",
     "output_type": "stream",
     "text": [
      "a is largest\n"
     ]
    }
   ],
   "source": [
    "a=int(input(\"enter the value\"))\n",
    "b=int(input(\"enter the value\"))\n",
    "if a>b:\n",
    "    print(\"a is largest\")\n",
    "else:\n",
    "    print(\"b is largest\")"
   ]
  },
  {
   "cell_type": "code",
   "execution_count": 20,
   "id": "7531e00d-d1d9-4f3d-9ce3-b02c603eaac9",
   "metadata": {},
   "outputs": [
    {
     "name": "stdin",
     "output_type": "stream",
     "text": [
      " 5\n",
      " 4\n",
      " 3\n"
     ]
    },
    {
     "name": "stdout",
     "output_type": "stream",
     "text": [
      "a is big\n"
     ]
    }
   ],
   "source": [
    "a=int(input())\n",
    "b=int(input())\n",
    "c=int(input())\n",
    "if a>b:\n",
    "    if a>c:\n",
    "     print(\"a is big\")\n",
    "    else:\n",
    "     print(\"c is big\")\n",
    "else:\n",
    "    if b>c:\n",
    "      print(\"b is big\")\n",
    "    else:\n",
    "      print(\"c is big\")"
   ]
  },
  {
   "cell_type": "code",
   "execution_count": 36,
   "id": "e601aec2-c97a-4053-a077-1a095c3daadb",
   "metadata": {},
   "outputs": [
    {
     "name": "stdin",
     "output_type": "stream",
     "text": [
      "enter the marks: 101\n"
     ]
    },
    {
     "name": "stdout",
     "output_type": "stream",
     "text": [
      "invalid marks\n"
     ]
    }
   ],
   "source": [
    "marks =int(input(\"enter the marks:\"))\n",
    "if marks>=90 and marks<100:\n",
    "     print(\"grade = A+\")\n",
    "else:\n",
    "    if marks>=80 and marks<90:\n",
    "        print(\"grade = A\")\n",
    "    else:\n",
    "        if marks>=70 and marks<80:\n",
    "            print(\"grade = B+\")     \n",
    "        else:\n",
    "                if marks>=60 and marks<80:\n",
    "                  print(\"grade = B\")\n",
    "                else:\n",
    "                   if marks>=50 and marks<60:\n",
    "                      print(\"grade = C\")\n",
    "                   else:\n",
    "                        if marks>=40 and marks<50:\n",
    "                           print(\"grade = D\")\n",
    "                        else:\n",
    "                            if marks>=30 and marks<40:\n",
    "                               print(\"grade = E\")\n",
    "                            else:\n",
    "                                print(\"invalid marks\")\n",
    "          \n",
    "                 \n",
    "            \n",
    "          "
   ]
  },
  {
   "cell_type": "code",
   "execution_count": 37,
   "id": "9ccfe3ef-4752-4f20-998a-7f6903658ffa",
   "metadata": {},
   "outputs": [
    {
     "name": "stdin",
     "output_type": "stream",
     "text": [
      "enter the day number 5\n"
     ]
    },
    {
     "name": "stdout",
     "output_type": "stream",
     "text": [
      "thursday\n"
     ]
    }
   ],
   "source": [
    "day=int(input(\"enter the day number\"))\n",
    "match day:\n",
    "    case 1:print(\"sunday\")\n",
    "    case 2:print(\"monday\")\n",
    "    case 3:print(\"tuesday\")\n",
    "    case 4:print(\"wednesday\")\n",
    "    case 5:print(\"thursday\")\n",
    "    case 6:print(\"friday\")\n",
    "    case 7:print(\"saturday\")\n",
    "    case 8:print(\"invalid\")\n",
    "    \n",
    "    \n",
    "    \n",
    "\n",
    "    "
   ]
  },
  {
   "cell_type": "code",
   "execution_count": null,
   "id": "582f59fc-48a5-43f1-b5d6-c6731b5dd8be",
   "metadata": {},
   "outputs": [],
   "source": [
    "marks =int(input(\"enter the marks:\"))\n",
    "if marks>=90 and marks<100:\n",
    "     print(\"grade = A+\")\n",
    "elif:\n",
    "    marks>=80 and marks<90:\n",
    "        print(\"grade = A\")\n",
    "    elif:\n",
    "        marks>=70 and marks<80:\n",
    "           print(\"grade = B+\")     \n",
    "        elif: \n",
    "            marks>=60 and marks<80:\n",
    "              print(\"grade = B\")\n",
    "                elif: \n",
    "                   marks>=50 and marks<60:\n",
    "                      print(\"grade = C\")\n",
    "                   else:\n",
    "                        if marks>=40 and marks<50:\n",
    "                           print(\"grade = D\")\n",
    "                        else:\n",
    "                            if marks>=30 and marks<40:\n",
    "                               print(\"grade = E\")\n",
    "                            else:\n",
    "                                print(\"invalid marks\")\n",
    "          \n",
    "                 \n",
    "            \n",
    "          "
   ]
  },
  {
   "cell_type": "code",
   "execution_count": 38,
   "id": "a2c575c4-27cb-4bcd-b4df-7c7f7a362e0b",
   "metadata": {},
   "outputs": [
    {
     "name": "stdout",
     "output_type": "stream",
     "text": [
      "0\n",
      "1\n",
      "2\n",
      "3\n",
      "4\n",
      "5\n",
      "6\n",
      "7\n",
      "8\n",
      "9\n"
     ]
    }
   ],
   "source": [
    "for x in range(0,10): #initialization, condition,ic/dec\n",
    "    print(x)"
   ]
  },
  {
   "cell_type": "code",
   "execution_count": 59,
   "id": "c7362279-1e8a-4d3a-85eb-a8c63a92e46a",
   "metadata": {},
   "outputs": [
    {
     "name": "stdout",
     "output_type": "stream",
     "text": [
      "*\n",
      "**\n",
      "***\n",
      "****\n",
      "*****\n",
      "******\n",
      "*******\n",
      "********\n",
      "*********\n",
      "**********\n"
     ]
    }
   ],
   "source": [
    "for y in range(0,10):\n",
    "    for x in range(0,y+1):\n",
    "        print(\"*\",end=\"\")\n",
    "    print()"
   ]
  },
  {
   "cell_type": "code",
   "execution_count": 19,
   "id": "11463d4f-9343-4d77-82db-c51ae5434d64",
   "metadata": {},
   "outputs": [
    {
     "name": "stdin",
     "output_type": "stream",
     "text": [
      "enter the number 5\n"
     ]
    },
    {
     "name": "stdout",
     "output_type": "stream",
     "text": [
      "0\n",
      "1\n",
      "1\n",
      "3\n",
      "5\n"
     ]
    }
   ],
   "source": [
    "a=int(input(\"enter the number\"))\n",
    "for i in range(0,5):\n",
    " if i==0 or i==1:\n",
    "     print(i)\n",
    " else:\n",
    "     print((i-1)+(i-2))\n",
    "\n"
   ]
  },
  {
   "cell_type": "code",
   "execution_count": 20,
   "id": "a2b086eb-8e66-42d5-8f45-3e2eb225e3c8",
   "metadata": {},
   "outputs": [
    {
     "name": "stdin",
     "output_type": "stream",
     "text": [
      "enter the number 5\n"
     ]
    },
    {
     "name": "stdout",
     "output_type": "stream",
     "text": [
      "0 1 1 2 3 "
     ]
    }
   ],
   "source": [
    "n=int(input(\"enter the number\"))\n",
    "a=0\n",
    "b=1\n",
    "print(a,b,end=\" \")\n",
    "for i in range(0,n-2):\n",
    "    c=a+b\n",
    "    print(c,end=\" \")\n",
    "    a=b\n",
    "    b=c\n"
   ]
  },
  {
   "cell_type": "code",
   "execution_count": null,
   "id": "2a26a4af-71d7-4d0e-992b-ea2042823894",
   "metadata": {},
   "outputs": [],
   "source": []
  }
 ],
 "metadata": {
  "kernelspec": {
   "display_name": "Python 3 (ipykernel)",
   "language": "python",
   "name": "python3"
  },
  "language_info": {
   "codemirror_mode": {
    "name": "ipython",
    "version": 3
   },
   "file_extension": ".py",
   "mimetype": "text/x-python",
   "name": "python",
   "nbconvert_exporter": "python",
   "pygments_lexer": "ipython3",
   "version": "3.12.3"
  }
 },
 "nbformat": 4,
 "nbformat_minor": 5
}
