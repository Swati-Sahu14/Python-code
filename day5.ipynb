{
 "cells": [
  {
   "cell_type": "code",
   "execution_count": 2,
   "id": "1e2771e0-d88b-4111-bceb-609ff23d3679",
   "metadata": {},
   "outputs": [
    {
     "name": "stdout",
     "output_type": "stream",
     "text": [
      "this laptop have i5 8gb ram 1TB SSD\n"
     ]
    }
   ],
   "source": [
    "#OoPs concept\n",
    "#class uses 1 argument called self\n",
    "\n",
    "class laptop:\n",
    "    def config(self):\n",
    "        print(\"this laptop have i5 8gb ram 1TB SSD\")\n",
    "\n",
    "hp=laptop()\n",
    "hp.config()"
   ]
  },
  {
   "cell_type": "markdown",
   "id": "50d2e684-36f9-4a26-bedb-0ed33fc07341",
   "metadata": {},
   "source": [
    "create a laptop class \n",
    "with a variable as processor, RAM and storage\n",
    "create a function to print the configuration of the laptops\n",
    "create 3 objects of laptop with diffrent brand and display its configuration"
   ]
  },
  {
   "cell_type": "code",
   "execution_count": 28,
   "id": "28630b11-42be-4868-9f31-6f3d04ae72bf",
   "metadata": {},
   "outputs": [
    {
     "name": "stdout",
     "output_type": "stream",
     "text": [
      "configuration of laptops:\n",
      "processor i5\n",
      "RAM 16\n",
      "storage 512\n"
     ]
    }
   ],
   "source": [
    "class laptop:\n",
    "        def __init__ (self,processor,RAM,storage):\n",
    "            self.p=processor\n",
    "            self.r=RAM\n",
    "            self.s=storage\n",
    "            \n",
    "        def config(self):\n",
    "             print(\"configuration of laptops:\")\n",
    "             print(\"processor\",self.p)\n",
    "             print(\"RAM\",self.r)\n",
    "             print(\"storage\",self.s)\n",
    "if __name__== \"__main__\":\n",
    "    hp=laptop(\"i5\",16,512)\n",
    "    hp.config()"
   ]
  },
  {
   "cell_type": "markdown",
   "id": "8dded5f7-3ff2-4b76-884f-891e08fe01d4",
   "metadata": {},
   "source": [
    "create a class student which can hold the marks in 5 subjects and also create a function to print the marks and calculate the avg of 5 subjects"
   ]
  },
  {
   "cell_type": "code",
   "execution_count": 25,
   "id": "2a6f744c-cbb7-481e-9200-0ec82dd9ba9d",
   "metadata": {},
   "outputs": [
    {
     "name": "stdout",
     "output_type": "stream",
     "text": [
      "marks of maths 95\n",
      "marks of hindi 67\n",
      "marks of social 89\n",
      "marks of python 56\n",
      "marks of science 89\n"
     ]
    },
    {
     "name": "stdin",
     "output_type": "stream",
     "text": [
      "print the marks 89\n"
     ]
    },
    {
     "name": "stdout",
     "output_type": "stream",
     "text": [
      "98.2\n"
     ]
    }
   ],
   "source": [
    "class student:\n",
    "    def __init__(self,maths,hindi,social,python,science):\n",
    "        self.m=maths\n",
    "        self.h=hindi\n",
    "        self.so=social\n",
    "        self.p=python\n",
    "        self.s=science\n",
    "    \n",
    "    def marks(self):\n",
    "        print(\"marks of maths\",self.m)\n",
    "        print(\"marks of hindi\",self.h)\n",
    "        print(\"marks of social\",self.so)\n",
    "        print(\"marks of python\",self.p)\n",
    "        print(\"marks of science\",self.s)\n",
    "        marks=int(input(\"print the marks\"))\n",
    "\n",
    "    def avg_marks(self):\n",
    "        total=(self.m+self.h+self.so+self.m+self.p+self.s)\n",
    "        avg=total/5\n",
    "        print(avg)\n",
    "        \n",
    "if __name__==\"__main__\":\n",
    "    a=student(95,67,89,56,89)\n",
    "    a.marks()\n",
    "    a.avg_marks()  "
   ]
  },
  {
   "cell_type": "markdown",
   "id": "899048e7-5a1a-4917-b592-dee9bc059193",
   "metadata": {},
   "source": [
    "access modifiers\n",
    "\n",
    "public normal\n",
    "protected _\n",
    "private __"
   ]
  },
  {
   "cell_type": "code",
   "execution_count": 6,
   "id": "b409a7b3-891c-4242-9a34-da2ba8921715",
   "metadata": {},
   "outputs": [
    {
     "name": "stdout",
     "output_type": "stream",
     "text": [
      "this is fun1\n",
      "this is fun2\n",
      "this is fun3\n",
      "this is fun4\n",
      "this is fun5\n"
     ]
    }
   ],
   "source": [
    "class a:\n",
    "    def fun1(self):\n",
    "        print(\"this is fun1\")\n",
    "    def fun2(self):\n",
    "        print(\"this is fun2\")\n",
    "class b(a):\n",
    "    def fun3(self):\n",
    "        print(\"this is fun3\")\n",
    "    def fun4(self):\n",
    "        print(\"this is fun4\")\n",
    "class c(a):\n",
    "    def fun5(self):\n",
    "        print(\"this is fun5\")\n",
    "    def fun6(self):\n",
    "        print(\"this is fun6\")\n",
    "class d(b,a):\n",
    "    def fun7(self):\n",
    "        print(\"this is fun5\")\n",
    "    def fun8(self):\n",
    "        print(\"this is fun6\")\n",
    "if __name__==\"__main__\":\n",
    "   ob1=a()\n",
    "   ob2=b()\n",
    "   ob3=c()\n",
    "   ob4=d()\n",
    "    \n",
    "   ob1.fun1() \n",
    "   ob1.fun2() \n",
    "   ob2.fun3() \n",
    "   ob2.fun4()\n",
    "   ob3.fun5() "
   ]
  },
  {
   "cell_type": "code",
   "execution_count": 29,
   "id": "97d72a55-cce1-48fa-9b85-f2d927076bea",
   "metadata": {},
   "outputs": [
    {
     "name": "stdout",
     "output_type": "stream",
     "text": [
      "constructor of class A\n",
      "constructor of class B\n",
      "constructor of class C\n",
      "constructor of class D\n",
      "printing the show of c\n",
      "printing the show of A\n",
      "printing the show of D\n"
     ]
    }
   ],
   "source": [
    "class a:\n",
    "    def __init__(self):\n",
    "        print(\"constructor of class A\")\n",
    "    def show(self):\n",
    "        print(\"printing the show of A\")\n",
    "class b(a):\n",
    "    def __init__(self):\n",
    "        print(\"constructor of class B\")\n",
    "    def show(self):\n",
    "        print(\"printing the show of B\")\n",
    "class c(a):\n",
    "    def __init__(self):\n",
    "        print(\"constructor of class C\")\n",
    "    def show(self):\n",
    "        print(\"printing the show of c\")\n",
    "        super().show()\n",
    "class d:\n",
    "    def __init__(self):\n",
    "        print(\"constructor of class D\")\n",
    "    def show(self):\n",
    "        print(\"printing the show of D\")\n",
    "if __name__==\"__main__\":\n",
    "    ob1=a()\n",
    "    ob2=b()\n",
    "    ob3=c()\n",
    "    ob4=d()\n",
    "    \n",
    "    ob3.show()\n",
    "    ob4.show()\n"
   ]
  },
  {
   "cell_type": "code",
   "execution_count": 14,
   "id": "ee428d99-f6ae-41c0-a675-bf4c89d6f2e8",
   "metadata": {},
   "outputs": [
    {
     "name": "stdout",
     "output_type": "stream",
     "text": [
      "constructor of class C\n",
      "constructor of class C with 1 5\n",
      "constructor of class C with 1 2\n"
     ]
    }
   ],
   "source": [
    "class c:\n",
    "    def __init__(self):\n",
    "        print(\"constructor of class C\")\n",
    "    def abc(self,a,b=5):\n",
    "        print(\"constructor of class C with\",a,b)\n",
    "ob=c()\n",
    "ob.abc(1)\n",
    "ob.abc(1,2)\n",
    "        \n",
    "        \n",
    "        "
   ]
  },
  {
   "cell_type": "code",
   "execution_count": 15,
   "id": "2581a357-6911-41fa-a1fe-32fbfdd769ad",
   "metadata": {},
   "outputs": [
    {
     "name": "stdout",
     "output_type": "stream",
     "text": [
      "constructor of class C\n",
      "1 2\n"
     ]
    }
   ],
   "source": [
    "class c:\n",
    "    def __init__(self,a,b):\n",
    "        print(\"constructor of class C\")\n",
    "        self.x=a\n",
    "        self.y=b\n",
    "        print(self.x,self.y)\n",
    "\n",
    "ob=c(1,2)"
   ]
  },
  {
   "cell_type": "code",
   "execution_count": 17,
   "id": "f1592606-224b-411a-ba9f-1152d346600b",
   "metadata": {},
   "outputs": [
    {
     "name": "stdout",
     "output_type": "stream",
     "text": [
      "professional laptop having  i5 8 512 6hr\n",
      "gaming laptop having i5 8 512 3\n"
     ]
    }
   ],
   "source": [
    "class laptop:\n",
    "        def __init__ (self,p,r,s):\n",
    "            self.processor=p\n",
    "            self.ram=r\n",
    "            self.storage=s\n",
    "            \n",
    "class professional(laptop):\n",
    "        def __init__ (self,b,p,r,s):\n",
    "             self.backup=b\n",
    "             super().__init__(p,r,s)\n",
    "                 \n",
    "class gaming(laptop):\n",
    "        def __init__ (self,g,p,r,s):\n",
    "            self.graphiccard=g\n",
    "            super().__init__(p,r,s)\n",
    "            \n",
    "pro1 =professional(\"6hr\",\"i5\",8,512)\n",
    "gam1=gaming(3,\"i5\",8,512)\n",
    "print(\"professional laptop having \",\n",
    "      pro1.processor,pro1.ram,pro1.storage,pro1.backup)\n",
    "print(\"gaming laptop having\",gam1.processor,gam1.ram,gam1.storage,gam1.graphiccard)"
   ]
  },
  {
   "cell_type": "code",
   "execution_count": 13,
   "id": "d60555f4-20a7-412f-ada0-4858aea04bf8",
   "metadata": {},
   "outputs": [
    {
     "name": "stdout",
     "output_type": "stream",
     "text": [
      "ticket booked fareprice will be: 6550\n"
     ]
    }
   ],
   "source": [
    "class ticket:\n",
    "    def __init__(self,D):\n",
    "        self.distance= int(D)\n",
    "        self.farePrice = None\n",
    "        \n",
    "class gen(ticket):\n",
    "    def _init_(self,D):\n",
    "        super()._init_(D)\n",
    "    def print_ticket(self):\n",
    "        self.farePrice=50+(self.distance*2)\n",
    "        return self.farePrice\n",
    "        \n",
    "class slp(gen):\n",
    "    def _init_(self,D):\n",
    "        super()._init_(D)\n",
    "    def print_ticket(self):\n",
    "        self.farePrice=super().print_ticket()+(2*self.distance)\n",
    "        return self.farePrice\n",
    "        \n",
    "class AC(slp):\n",
    "     def _init_(self,D):\n",
    "        super()._init_(D) \n",
    "     def print_ticket(self):\n",
    "        self.farePrice=super().print_ticket()+(4*self.distance)\n",
    "        return self.farePrice\n",
    "    \n",
    "class FC(AC):\n",
    "     def _init_(self,D):\n",
    "        super()._init_(D) \n",
    "     def print_ticket(self):\n",
    "        self.farePrice=super().print_ticket()+(5*self.distance)\n",
    "        return self.farePrice\n",
    "\n",
    "jur= FC(500)\n",
    "print(\"ticket booked fareprice will be:\",jur.print_ticket())\n",
    "    \n",
    "    \n",
    "   \n",
    "        "
   ]
  },
  {
   "cell_type": "code",
   "execution_count": null,
   "id": "e6a3c490-df51-4d05-ac8b-9ba5eb266f0c",
   "metadata": {},
   "outputs": [],
   "source": []
  }
 ],
 "metadata": {
  "kernelspec": {
   "display_name": "Python 3 (ipykernel)",
   "language": "python",
   "name": "python3"
  },
  "language_info": {
   "codemirror_mode": {
    "name": "ipython",
    "version": 3
   },
   "file_extension": ".py",
   "mimetype": "text/x-python",
   "name": "python",
   "nbconvert_exporter": "python",
   "pygments_lexer": "ipython3",
   "version": "3.12.3"
  }
 },
 "nbformat": 4,
 "nbformat_minor": 5
}
