{
 "cells": [
  {
   "cell_type": "code",
   "execution_count": 32,
   "id": "99a3642f-966d-4f46-ba31-1cb11831a4f4",
   "metadata": {},
   "outputs": [
    {
     "name": "stdin",
     "output_type": "stream",
     "text": [
      "enter the temperatue in celsius: 32\n"
     ]
    },
    {
     "name": "stdout",
     "output_type": "stream",
     "text": [
      "celisus to fahrenheit coversion is: 89.6\n"
     ]
    }
   ],
   "source": [
    "#convert a temperature from celsius to fahrenheit\n",
    "\n",
    "celsius=int(input(\"enter the temperatue in celsius:\"))\n",
    "def convert(celsius):\n",
    "    print(\"celisus to fahrenheit coversion is:\",(9/5)*c+32)\n",
    "fahrenheit=convert(celsius)\n"
   ]
  },
  {
   "cell_type": "code",
   "execution_count": 51,
   "id": "3dc71cae-9915-4b3f-960c-401bafebec73",
   "metadata": {},
   "outputs": [
    {
     "name": "stdout",
     "output_type": "stream",
     "text": [
      "second largest element is: 12\n"
     ]
    }
   ],
   "source": [
    "#find the second largest element in a list\n",
    "\n",
    "a=[4,6,3,12,18,7]\n",
    "a.sort()\n",
    "element=a[-2]\n",
    "print(\"second largest element is:\",element)"
   ]
  },
  {
   "cell_type": "code",
   "execution_count": 71,
   "id": "9932e1d6-f258-44fa-ae26-6659fdc2c2d4",
   "metadata": {},
   "outputs": [
    {
     "name": "stdin",
     "output_type": "stream",
     "text": [
      "enter the value: 7\n"
     ]
    },
    {
     "name": "stdout",
     "output_type": "stream",
     "text": [
      "3\n"
     ]
    }
   ],
   "source": [
    "#count the occurence of each element in a list\n",
    "\n",
    "a=[3,2,4,3,5.5,7,7,'b',7,8,1]\n",
    "y=a.count(int(input(\"enter the value:\")))\n",
    "print(y)"
   ]
  },
  {
   "cell_type": "code",
   "execution_count": 96,
   "id": "58a7b72b-bcc3-41d3-8d58-4c4b0610fc6f",
   "metadata": {},
   "outputs": [
    {
     "name": "stdout",
     "output_type": "stream",
     "text": [
      "sum of even number in a list is: 66\n"
     ]
    }
   ],
   "source": [
    "#find the sum of all even numbers in a list\n",
    "\n",
    "a=[1,2,4,6,9,12,8,34]\n",
    "sum=0\n",
    "for i in a:\n",
    "    if i%2==0:\n",
    "        sum=sum+i\n",
    "print(\"sum of even number in a list is:\",sum)\n",
    "  "
   ]
  },
  {
   "cell_type": "code",
   "execution_count": null,
   "id": "3a10658c-27d4-4998-b16c-c72d102d06ab",
   "metadata": {},
   "outputs": [],
   "source": [
    "#count the number of vowels in a string\n",
    "\n",
    "n=(input(\"enter a string:\"))\n",
    "count=0\n",
    "vowel=set(\"aeiouAEIOU\")\n",
    "for i in n:\n",
    "    if i in vowel:\n",
    "        count =count+1\n",
    "print(\"no of vowels are:\",count)\n",
    "\n"
   ]
  },
  {
   "cell_type": "code",
   "execution_count": 31,
   "id": "af171397-7678-4b5e-8dcb-f0e12a33517a",
   "metadata": {},
   "outputs": [
    {
     "name": "stdout",
     "output_type": "stream",
     "text": [
      "reverse of the string is: olleh\n"
     ]
    }
   ],
   "source": [
    "#reverse the words in a given sentence\n",
    "\n",
    "def x(string):\n",
    "    return string[::-1]\n",
    "print(\"reverse of the string is:\",x(\"hello\"))"
   ]
  },
  {
   "cell_type": "code",
   "execution_count": null,
   "id": "f7f79ead-406a-4beb-8398-f139a572ef16",
   "metadata": {},
   "outputs": [],
   "source": []
  },
  {
   "cell_type": "code",
   "execution_count": null,
   "id": "63099950-74ed-40dd-a9c5-35c5b1a1a575",
   "metadata": {},
   "outputs": [],
   "source": []
  }
 ],
 "metadata": {
  "kernelspec": {
   "display_name": "Python 3 (ipykernel)",
   "language": "python",
   "name": "python3"
  },
  "language_info": {
   "codemirror_mode": {
    "name": "ipython",
    "version": 3
   },
   "file_extension": ".py",
   "mimetype": "text/x-python",
   "name": "python",
   "nbconvert_exporter": "python",
   "pygments_lexer": "ipython3",
   "version": "3.12.3"
  }
 },
 "nbformat": 4,
 "nbformat_minor": 5
}
