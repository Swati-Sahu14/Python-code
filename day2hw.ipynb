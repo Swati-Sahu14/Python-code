{
 "cells": [
  {
   "cell_type": "code",
   "execution_count": 75,
   "id": "12f45ffc-6419-414e-b211-9f00b4bfcb81",
   "metadata": {},
   "outputs": [
    {
     "name": "stdin",
     "output_type": "stream",
     "text": [
      " 3\n",
      " 4\n"
     ]
    },
    {
     "name": "stdout",
     "output_type": "stream",
     "text": [
      "1.addition\n",
      "2.subtraction\n",
      "3.multiplication\n",
      "4.division\n",
      "5.modulus\n",
      "6.power\n",
      "\n"
     ]
    },
    {
     "name": "stdin",
     "output_type": "stream",
     "text": [
      "enter your choice: 3\n"
     ]
    },
    {
     "name": "stdout",
     "output_type": "stream",
     "text": [
      "12\n"
     ]
    }
   ],
   "source": [
    "#menu driven code to perform the basic arithmetic operations like addition,subtraction,multiplication,division,moduls,power\n",
    "a=int(input())\n",
    "b=int(input())\n",
    "print(\"1.addition\\n2.subtraction\\n3.multiplication\\n4.division\\n5.modulus\\n6.power\\n\")\n",
    "c=int(input(\"enter your choice:\"))\n",
    "match c:\n",
    "     case 1:print(a+b)\n",
    "     case 2:print(a-b)\n",
    "     case 3:print(a*b)\n",
    "     case 4:print(a/b)\n",
    "     case 5:print(a%b)\n",
    "     case 6:print(a**b)\n",
    "     case _:print(invalid)"
   ]
  },
  {
   "cell_type": "code",
   "execution_count": 97,
   "id": "eef4edcd-19ce-4e74-8483-ca82615a9020",
   "metadata": {},
   "outputs": [
    {
     "name": "stdin",
     "output_type": "stream",
     "text": [
      "enter a character: +\n"
     ]
    },
    {
     "name": "stdout",
     "output_type": "stream",
     "text": [
      "special character\n"
     ]
    }
   ],
   "source": [
    "#program to identify the input character by the user as lowercase,upercase,numeric or special character\n",
    "x=input(\"enter a character:\")\n",
    "if x.islower():\n",
    "    print(\"lowercase character\")\n",
    "elif x.isupper():\n",
    "    print(\"upercase character\")\n",
    "elif x>='0' and x<='9': # elif a.isnumeric()\n",
    "    print(\"numeric\")\n",
    "else:\n",
    "    print(\"special character\")"
   ]
  },
  {
   "cell_type": "code",
   "execution_count": null,
   "id": "174c8f4e-f713-4026-81d9-543f8ed2d54e",
   "metadata": {},
   "outputs": [],
   "source": []
  },
  {
   "cell_type": "code",
   "execution_count": 91,
   "id": "2eb5742f-354f-42c7-bd33-0dcaccfe96a3",
   "metadata": {},
   "outputs": [
    {
     "name": "stdin",
     "output_type": "stream",
     "text": [
      "enter a string mom\n"
     ]
    },
    {
     "name": "stdout",
     "output_type": "stream",
     "text": [
      "yes\n"
     ]
    }
   ],
   "source": [
    "#program to check whether a string is palindrome or not \n",
    "x=input(\"enter a string\")\n",
    "if(\"string is palindrome\"):\n",
    "    print(\"yes\")\n",
    "else:\n",
    "    print(\"no\")"
   ]
  },
  {
   "cell_type": "code",
   "execution_count": 50,
   "id": "edd5b991-7096-4b97-a8ca-f6a421772a97",
   "metadata": {},
   "outputs": [
    {
     "name": "stdout",
     "output_type": "stream",
     "text": [
      "10\n",
      "9\n",
      "8\n",
      "7\n",
      "6\n",
      "5\n",
      "4\n",
      "3\n",
      "2\n",
      "1\n"
     ]
    }
   ],
   "source": [
    "#program to reverse a digits of number\n",
    "for i in range(10,0,-1): \n",
    "    print(i,end='\\n')"
   ]
  },
  {
   "cell_type": "code",
   "execution_count": 18,
   "id": "415e02dc-a54d-4894-873b-4777302df3f7",
   "metadata": {},
   "outputs": [
    {
     "name": "stdin",
     "output_type": "stream",
     "text": [
      "enter the number: 15\n"
     ]
    },
    {
     "name": "stdout",
     "output_type": "stream",
     "text": [
      "15 it is not prime\n"
     ]
    }
   ],
   "source": [
    "#program for prime numbers\n",
    "n=int(input(\"enter the number:\"))\n",
    "\n",
    "for i in range(2,n):\n",
    "    if n%1 == 0:\n",
    "        print(n,\"it is not prime\")\n",
    "        break\n",
    "    else:\n",
    "        print(n,\"is prime\")\n",
    "    "
   ]
  },
  {
   "cell_type": "code",
   "execution_count": 5,
   "id": "7c0b894a-eac1-47be-954f-9c0f4cdc2fbf",
   "metadata": {},
   "outputs": [
    {
     "name": "stdin",
     "output_type": "stream",
     "text": [
      "enter a value 6\n"
     ]
    },
    {
     "name": "stdout",
     "output_type": "stream",
     "text": [
      "720\n"
     ]
    }
   ],
   "source": [
    "#program to find the factorial of a number\n",
    "n=int(input(\"enter a value\"))\n",
    "factorial=1\n",
    "for i in range(1,n+1):\n",
    "    factorial=factorial *i\n",
    "print(factorial)\n"
   ]
  },
  {
   "cell_type": "code",
   "execution_count": null,
   "id": "c0bd95e8-67ad-4e5d-a789-993ee08980de",
   "metadata": {},
   "outputs": [],
   "source": []
  }
 ],
 "metadata": {
  "kernelspec": {
   "display_name": "Python 3 (ipykernel)",
   "language": "python",
   "name": "python3"
  },
  "language_info": {
   "codemirror_mode": {
    "name": "ipython",
    "version": 3
   },
   "file_extension": ".py",
   "mimetype": "text/x-python",
   "name": "python",
   "nbconvert_exporter": "python",
   "pygments_lexer": "ipython3",
   "version": "3.12.3"
  }
 },
 "nbformat": 4,
 "nbformat_minor": 5
}
