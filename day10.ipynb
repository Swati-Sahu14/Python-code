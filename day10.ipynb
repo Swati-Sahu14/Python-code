{
 "cells": [
  {
   "cell_type": "code",
   "execution_count": 9,
   "id": "e67a3982-09c0-44bd-a62d-8e22fa666869",
   "metadata": {},
   "outputs": [
    {
     "name": "stdout",
     "output_type": "stream",
     "text": [
      "2\n",
      "4\n",
      "6\n",
      "8\n",
      "10\n",
      "12\n",
      "14\n",
      "16\n",
      "18\n",
      "20\n"
     ]
    }
   ],
   "source": [
    "for i in range(1,11):\n",
    "   a=2*i\n",
    "   print(a)"
   ]
  },
  {
   "cell_type": "code",
   "execution_count": 18,
   "id": "0961a174-cec5-490e-bc49-7d39955ce6a7",
   "metadata": {},
   "outputs": [
    {
     "name": "stdout",
     "output_type": "stream",
     "text": [
      "2\n",
      "4\n",
      "6\n",
      "8\n",
      "10\n",
      "12\n",
      "14\n",
      "16\n",
      "18\n",
      "20\n"
     ]
    }
   ],
   "source": [
    "#printing table for 2 using recursion\n",
    "def fun(i):\n",
    "  if i==11:\n",
    "    return\n",
    "  print(i*2)\n",
    "  i=i+1\n",
    "  fun(i)\n",
    "  return\n",
    "fun(1)    "
   ]
  },
  {
   "cell_type": "code",
   "execution_count": 35,
   "id": "ae3bf40f-938d-423a-bc85-57d0fe0171d6",
   "metadata": {},
   "outputs": [
    {
     "name": "stdin",
     "output_type": "stream",
     "text": [
      " 5\n"
     ]
    },
    {
     "name": "stdout",
     "output_type": "stream",
     "text": [
      "120\n"
     ]
    }
   ],
   "source": [
    "n=int(input())\n",
    "a=1\n",
    "for i in range(1,n+1):\n",
    "  a=a*i\n",
    "print(a)\n",
    "    "
   ]
  },
  {
   "cell_type": "code",
   "execution_count": 48,
   "id": "961b1e2f-41a5-45a5-bdde-92cb579566e8",
   "metadata": {},
   "outputs": [
    {
     "data": {
      "text/plain": [
       "120"
      ]
     },
     "execution_count": 48,
     "metadata": {},
     "output_type": "execute_result"
    }
   ],
   "source": [
    "#recursion for factorial\n",
    "def fun(i):\n",
    "  if i==1:\n",
    "    return 1\n",
    "  return i*fun(i-1)\n",
    "  print(i)  \n",
    "fun(5)"
   ]
  },
  {
   "cell_type": "code",
   "execution_count": 52,
   "id": "1fde201d-ff1a-4a59-b375-d6b9e1acdaa1",
   "metadata": {},
   "outputs": [
    {
     "name": "stdin",
     "output_type": "stream",
     "text": [
      " 5\n"
     ]
    },
    {
     "name": "stdout",
     "output_type": "stream",
     "text": [
      "0 1 1 2 3 "
     ]
    }
   ],
   "source": [
    "#fibonacci series\n",
    "a=0\n",
    "b=1\n",
    "n=(int(input()))\n",
    "print(a,b,end=\" \")\n",
    "\n",
    "for i in range(0,n-2):\n",
    "    c=a+b\n",
    "    print(c,end=\" \")\n",
    "    a=b\n",
    "    b=c\n",
    "      "
   ]
  },
  {
   "cell_type": "code",
   "execution_count": 59,
   "id": "89e04408-e33b-4ca9-8ade-12af2c2a7363",
   "metadata": {},
   "outputs": [
    {
     "name": "stdout",
     "output_type": "stream",
     "text": [
      "[1, 2, 3, 5, 6, 7, 8, 9]\n"
     ]
    }
   ],
   "source": [
    "#quicksort\n",
    "\n",
    "def findpi(arr,low,high):\n",
    "    pe=arr[high]\n",
    "    j=low-1\n",
    "    for i in range(low,high):\n",
    "       if pe>arr[i]:\n",
    "          j+=1\n",
    "          arr[i],arr[j]=arr[j],arr[i]\n",
    "    arr[high],arr[j+1]=arr[j+1],arr[high]\n",
    "    return j+1\n",
    "    \n",
    "def quicksort(arr,low,high):\n",
    "    if low<high:\n",
    "        pi=findpi(arr,low,high)\n",
    "        quicksort(arr,low,pi-1)\n",
    "        quicksort(arr,pi+1,high)\n",
    "        \n",
    "arr=[3,5,7,2,8,1,9,6]\n",
    "quicksort(arr,0,len(arr)-1)\n",
    "print(arr)\n"
   ]
  },
  {
   "cell_type": "code",
   "execution_count": 60,
   "id": "eb6b6a21-1586-4425-a715-f1a5bca8ff5a",
   "metadata": {},
   "outputs": [
    {
     "name": "stdout",
     "output_type": "stream",
     "text": [
      "[3, 5, 7, 2, 8, 1, 9, 6]\n",
      "6\n",
      "[3, 5, 2, 1, 6, 7, 9, 8]\n",
      "next\n",
      "[3, 5, 2, 1, 6, 7, 9, 8]\n",
      "1\n",
      "[1, 5, 2, 3, 6, 7, 9, 8]\n",
      "next\n",
      "[1, 5, 2, 3, 6, 7, 9, 8]\n",
      "3\n",
      "[1, 2, 3, 5, 6, 7, 9, 8]\n",
      "next\n",
      "[1, 2, 3, 5, 6, 7, 9, 8]\n",
      "8\n",
      "[1, 2, 3, 5, 6, 7, 8, 9]\n",
      "next\n",
      "[1, 2, 3, 5, 6, 7, 8, 9]\n"
     ]
    }
   ],
   "source": [
    "#quick sort\n",
    "def findpi(arr,low,high):\n",
    "    pe=arr[high]\n",
    "    j=low-1\n",
    "    for i in range(low,high):\n",
    "       if pe>arr[i]:\n",
    "          j+=1\n",
    "          arr[i],arr[j]=arr[j],arr[i]\n",
    "    arr[high],arr[j+1]=arr[j+1],arr[high]\n",
    "    return j+1\n",
    "    \n",
    "def quicksort(arr,low,high):\n",
    "    if low<high:\n",
    "        print(arr)\n",
    "        pi=findpi(arr,low,high)\n",
    "        print(arr[pi])\n",
    "        print(arr)\n",
    "        print(\"next\")\n",
    "        quicksort(arr,low,pi-1)\n",
    "        quicksort(arr,pi+1,high)\n",
    "        \n",
    "arr=[3,5,7,2,8,1,9,6]\n",
    "quicksort(arr,0,len(arr)-1)\n",
    "print(arr)\n"
   ]
  },
  {
   "cell_type": "markdown",
   "id": "567747cd-3f0d-4c37-921e-eb1f4c80f8d9",
   "metadata": {},
   "source": [
    "linked list"
   ]
  },
  {
   "cell_type": "code",
   "execution_count": 4,
   "id": "f2e3a8ab-4f00-491a-9c3b-38c7e14b50f9",
   "metadata": {},
   "outputs": [
    {
     "name": "stdout",
     "output_type": "stream",
     "text": [
      "A= <__main__.node object at 0x0000017B4F73B5C0>\n",
      "B= <__main__.node object at 0x0000017B4F73BF20>\n",
      "C= <__main__.node object at 0x0000017B4F73AED0>\n",
      "D= <__main__.node object at 0x0000017B4F73B650>\n",
      "<__main__.node object at 0x0000017B4F73B5C0> -->\n",
      "<__main__.node object at 0x0000017B4F73BF20> -->\n",
      "<__main__.node object at 0x0000017B4F73AED0> -->\n",
      "<__main__.node object at 0x0000017B4F73B650> -->\n"
     ]
    }
   ],
   "source": [
    "class node:\n",
    "    def __init__(self,value):\n",
    "       self.data=value\n",
    "       self.next=None\n",
    "\n",
    "A=node(\"apple\")\n",
    "B=node(\"book\")\n",
    "C=node(\"cat\")\n",
    "D=node(\"dog\")\n",
    "\n",
    "head=A\n",
    "head.next=B\n",
    "head.next.next=C\n",
    "head.next.next.next=D\n",
    "\n",
    "print(\"A=\",A)\n",
    "print(\"B=\",B)\n",
    "print(\"C=\",C)\n",
    "print(\"D=\",D)\n",
    "\n",
    "print(head,\"-->\")\n",
    "print(head.next,\"-->\")\n",
    "print(head.next.next,\"-->\")\n",
    "print(head.next.next.next,\"-->\")\n",
    "\n",
    "\n",
    "\n",
    "    "
   ]
  },
  {
   "cell_type": "code",
   "execution_count": 6,
   "id": "d28b2dfc-8c30-4c7f-8e33-43b7e87a6bf2",
   "metadata": {},
   "outputs": [
    {
     "name": "stdout",
     "output_type": "stream",
     "text": [
      "node 1 <__main__.node object at 0x0000017B4F73BFB0> 1\n",
      "node 2 <__main__.node object at 0x0000017B4F6FE9C0> 2\n",
      "node 3 <__main__.node object at 0x0000017B4F6B22D0> 3\n",
      "node 4 <__main__.node object at 0x0000017B4F6B07A0> 4\n"
     ]
    }
   ],
   "source": [
    "class node:\n",
    "    def __init__(self,value):\n",
    "       self.data=value\n",
    "       self.next=None\n",
    "        \n",
    "head=node(1)\n",
    "head.next=node(2)\n",
    "head.next.next=node(3)\n",
    "head.next.next.next=node(4)\n",
    "\n",
    "print(\"node 1\",head,head.data)\n",
    "print(\"node 2\",head.next,head.next.data)\n",
    "print(\"node 3\",head.next.next,head.next.next.data)\n",
    "print(\"node 4\",head.next.next.next,head.next.next.next.data)\n"
   ]
  },
  {
   "cell_type": "code",
   "execution_count": null,
   "id": "30b76e2c-17bb-437c-bad0-840cb8005146",
   "metadata": {},
   "outputs": [],
   "source": []
  }
 ],
 "metadata": {
  "kernelspec": {
   "display_name": "Python 3 (ipykernel)",
   "language": "python",
   "name": "python3"
  },
  "language_info": {
   "codemirror_mode": {
    "name": "ipython",
    "version": 3
   },
   "file_extension": ".py",
   "mimetype": "text/x-python",
   "name": "python",
   "nbconvert_exporter": "python",
   "pygments_lexer": "ipython3",
   "version": "3.12.3"
  }
 },
 "nbformat": 4,
 "nbformat_minor": 5
}
