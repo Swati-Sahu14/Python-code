{
 "cells": [
  {
   "cell_type": "code",
   "execution_count": 2,
   "id": "1ff8a38d-d439-46de-93eb-04b0f4a4c95a",
   "metadata": {},
   "outputs": [
    {
     "name": "stdout",
     "output_type": "stream",
     "text": [
      "non-numeric values\n",
      "non-numeric values\n",
      "the sum of numeric elements is: 19.5\n"
     ]
    }
   ],
   "source": [
    "list=[1,3,4,5.5,\"hii\",6,None]\n",
    "\n",
    "sum=0\n",
    "for num in list:\n",
    "    try:\n",
    "        sum+=num\n",
    "    except TypeError:\n",
    "        print(\"non-numeric values\")\n",
    "\n",
    "print(f\"the sum of numeric elements is: {sum}\")"
   ]
  },
  {
   "cell_type": "code",
   "execution_count": 12,
   "id": "78b2610c-2a61-4bdf-83c6-0cc0d376bc9b",
   "metadata": {},
   "outputs": [
    {
     "name": "stdout",
     "output_type": "stream",
     "text": [
      "average grade 74.66666666666667\n"
     ]
    }
   ],
   "source": [
    "def calculate_average_grade(grades_dict):\n",
    "    try:\n",
    "        total_grade=sum(grades_dict.values())\n",
    "        num_students=len(grades_dict)\n",
    "        average_grade=total_grade/num_students\n",
    "        print(\"average grade\",average)\n",
    "    except ZeroDivisionError:\n",
    "        print(\"the dictionary is empty\")\n",
    "        return None\n",
    "student_grades={'priya':57,'ram':78,'geeta':89}\n",
    "average=calculate_average_grade(student_grades)\n"
   ]
  },
  {
   "cell_type": "code",
   "execution_count": null,
   "id": "6148c9c5-619c-4974-aa29-00f931fe9c2b",
   "metadata": {},
   "outputs": [],
   "source": []
  },
  {
   "cell_type": "code",
   "execution_count": null,
   "id": "1c908150-99dd-4081-8d79-1c91f9a60b38",
   "metadata": {},
   "outputs": [],
   "source": []
  }
 ],
 "metadata": {
  "kernelspec": {
   "display_name": "Python 3 (ipykernel)",
   "language": "python",
   "name": "python3"
  },
  "language_info": {
   "codemirror_mode": {
    "name": "ipython",
    "version": 3
   },
   "file_extension": ".py",
   "mimetype": "text/x-python",
   "name": "python",
   "nbconvert_exporter": "python",
   "pygments_lexer": "ipython3",
   "version": "3.12.3"
  }
 },
 "nbformat": 4,
 "nbformat_minor": 5
}
