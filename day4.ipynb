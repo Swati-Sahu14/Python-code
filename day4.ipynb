{
 "cells": [
  {
   "cell_type": "markdown",
   "id": "659ee1ca-ab81-4f07-8989-859a52529699",
   "metadata": {},
   "source": [
    "file handling\n",
    "create\n",
    "write\n",
    "read\n",
    "update\n",
    "delete\n",
    "crud operations\n",
    "modes for\n",
    "write-w\n",
    "read-r\n",
    "append-a\n",
    "write and read- w+\n",
    "read and write- r+\n",
    "append and read- a+\n"
   ]
  },
  {
   "cell_type": "code",
   "execution_count": 6,
   "id": "a0259f28-ea9f-48ce-87fb-b9a503c5ad12",
   "metadata": {},
   "outputs": [],
   "source": [
    "import os\n",
    "\n",
    "with open(\"file1.txt\",'w') as f:\n",
    "    f.write(\"This is first text in file\\n\")\n",
    "    f.close()\n",
    "    "
   ]
  },
  {
   "cell_type": "code",
   "execution_count": 7,
   "id": "f502e30f-fcfe-4ce0-a877-1f8ce8496065",
   "metadata": {},
   "outputs": [],
   "source": [
    "import os\n",
    "\n",
    "with open(\"file1.txt\",'a') as f:\n",
    "    f.write(\"This is second text in file\")\n",
    "    f.close()"
   ]
  },
  {
   "cell_type": "code",
   "execution_count": 3,
   "id": "c7ddbe2c-0a5a-41e8-9140-471592fbd833",
   "metadata": {},
   "outputs": [],
   "source": [
    "import os\n",
    "os.remove(\"file1.txt\")"
   ]
  },
  {
   "cell_type": "code",
   "execution_count": 8,
   "id": "488a6c17-660e-44e3-8322-a82c1d86970e",
   "metadata": {},
   "outputs": [
    {
     "name": "stdout",
     "output_type": "stream",
     "text": [
      "This is first text in file\n",
      "111\n",
      "This is second text in file\n",
      "111\n"
     ]
    }
   ],
   "source": [
    "import os\n",
    "\n",
    "with open(\"file1.txt\",'r') as f:\n",
    "    for a in f.read().split(\"\\n\"):\n",
    "        print(a)\n",
    "        print(\"111\")\n",
    "\n",
    "    f.close()"
   ]
  },
  {
   "cell_type": "code",
   "execution_count": 21,
   "id": "a7061a8a-304c-4054-a027-7526a301138d",
   "metadata": {},
   "outputs": [
    {
     "name": "stdout",
     "output_type": "stream",
     "text": [
      "I am swati \n",
      "marks:90\n",
      " and a student\n",
      "marks:90\n"
     ]
    }
   ],
   "source": [
    "import os\n",
    "\n",
    "with open(\"ai163.txt\",'w') as f:\n",
    "    f.write(\"I am swati \\n and a student\")\n",
    "    f.close()\n",
    "    with open(\"ai163.txt\",'r') as f:\n",
    "        for a in f.read().split(\"\\n\"):\n",
    "            print(a)\n",
    "            print(\"marks:90\")\n",
    "    f.close()\n",
    "            "
   ]
  },
  {
   "cell_type": "code",
   "execution_count": 5,
   "id": "78163e9a-7eb5-4fb9-9e77-a226b4d081d5",
   "metadata": {},
   "outputs": [
    {
     "name": "stdin",
     "output_type": "stream",
     "text": [
      "enter the fruits name: apple banana mango grapes\n"
     ]
    },
    {
     "name": "stdout",
     "output_type": "stream",
     "text": [
      "apple watermelon mango grapes\n"
     ]
    }
   ],
   "source": [
    "import os\n",
    "\n",
    "with open(\"fruit_name.txt\",'w') as f:\n",
    "    f.write(input(\"enter the fruits name:\"))\n",
    "    f.close()\n",
    "    with open(\"fruit_name.txt\",'r') as f:\n",
    "        for a in f.read().split(\"\\n\"):\n",
    "            a=a.replace(\"banana\",\"watermelon\")\n",
    "            print(a)\n",
    "            with open(\"fruit_name.txt\",'w') as f:\n",
    "                f.write(a)\n",
    "                f.close()\n",
    "            "
   ]
  },
  {
   "cell_type": "code",
   "execution_count": null,
   "id": "e206d24d-05f9-471a-b52c-91fc122abfe3",
   "metadata": {},
   "outputs": [],
   "source": []
  }
 ],
 "metadata": {
  "kernelspec": {
   "display_name": "Python 3 (ipykernel)",
   "language": "python",
   "name": "python3"
  },
  "language_info": {
   "codemirror_mode": {
    "name": "ipython",
    "version": 3
   },
   "file_extension": ".py",
   "mimetype": "text/x-python",
   "name": "python",
   "nbconvert_exporter": "python",
   "pygments_lexer": "ipython3",
   "version": "3.12.3"
  }
 },
 "nbformat": 4,
 "nbformat_minor": 5
}
