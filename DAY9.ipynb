{
 "cells": [
  {
   "cell_type": "code",
   "execution_count": 1,
   "id": "7f75ff82-e176-49d5-a348-0c3b37dffe1d",
   "metadata": {},
   "outputs": [
    {
     "name": "stdout",
     "output_type": "stream",
     "text": [
      "reverse of the string is: olleh\n"
     ]
    }
   ],
   "source": [
    "def x(string):\n",
    "    return string[::-1]\n",
    "print(\"reverse of the string is:\",x(\"hello\"))"
   ]
  },
  {
   "cell_type": "code",
   "execution_count": 2,
   "id": "bc4df6e5-4488-4245-b506-9066b3ebe8dc",
   "metadata": {},
   "outputs": [
    {
     "name": "stdin",
     "output_type": "stream",
     "text": [
      " HELLO\n"
     ]
    },
    {
     "name": "stdout",
     "output_type": "stream",
     "text": [
      "O\n",
      "L\n",
      "L\n",
      "E\n",
      "H\n"
     ]
    }
   ],
   "source": [
    "a=input()\n",
    "for i in range(0,len(a)):\n",
    "    print(a[-1*(i+1)])"
   ]
  },
  {
   "cell_type": "code",
   "execution_count": 3,
   "id": "afb64abb-f180-4a08-9165-0411bd79d2df",
   "metadata": {},
   "outputs": [
    {
     "name": "stdout",
     "output_type": "stream",
     "text": [
      "o\n",
      "l\n",
      "l\n",
      "e\n",
      "h\n"
     ]
    }
   ],
   "source": [
    "def add(x):\n",
    "   s.append(x)\n",
    "   \n",
    "s=[]\n",
    "add('h')\n",
    "add('e')\n",
    "add('l')\n",
    "add('l')\n",
    "add('o')\n",
    "for i in range(0,len(s)):\n",
    "    print(s[-1*(i+1)])"
   ]
  },
  {
   "cell_type": "code",
   "execution_count": 4,
   "id": "487941af-c3db-4548-b127-d77898f999a1",
   "metadata": {},
   "outputs": [
    {
     "name": "stdin",
     "output_type": "stream",
     "text": [
      " this is a car\n"
     ]
    },
    {
     "name": "stdout",
     "output_type": "stream",
     "text": [
      "rac a si siht"
     ]
    }
   ],
   "source": [
    "a=input()\n",
    "s=[]\n",
    "for e in a:\n",
    "    s.append(e)\n",
    "\n",
    "while len(s)>0:\n",
    "    print(s.pop(),end=\"\")"
   ]
  },
  {
   "cell_type": "code",
   "execution_count": 5,
   "id": "f0d50bb3-8a66-428c-a912-7c31746b7e9f",
   "metadata": {},
   "outputs": [
    {
     "name": "stdin",
     "output_type": "stream",
     "text": [
      " abcd\n"
     ]
    },
    {
     "name": "stdout",
     "output_type": "stream",
     "text": [
      "4\n",
      "d\n",
      "3\n",
      "c\n",
      "2\n",
      "b\n",
      "1\n",
      "a\n"
     ]
    }
   ],
   "source": [
    "a=input()\n",
    "s=[]\n",
    "for e in a:\n",
    "    s.append(e)\n",
    "\n",
    "while len(s)>0:\n",
    "    print(len(s))\n",
    "    print(s.pop())\n",
    "    "
   ]
  },
  {
   "cell_type": "code",
   "execution_count": 6,
   "id": "1f6e496c-7566-4342-bea8-03211ddabc9a",
   "metadata": {},
   "outputs": [
    {
     "name": "stdin",
     "output_type": "stream",
     "text": [
      " this is a car\n"
     ]
    },
    {
     "name": "stdout",
     "output_type": "stream",
     "text": [
      "car a is this "
     ]
    }
   ],
   "source": [
    "a=input()\n",
    "s=[]\n",
    "for e in a.split():\n",
    "    s.append(e)\n",
    "\n",
    "while len(s)>0:\n",
    "    print(s.pop(),end=\" \")\n",
    "  "
   ]
  },
  {
   "cell_type": "code",
   "execution_count": 7,
   "id": "5b178779-03e9-41ad-af3b-d892bd3fa31b",
   "metadata": {},
   "outputs": [
    {
     "name": "stdin",
     "output_type": "stream",
     "text": [
      " (a+b)*c\n"
     ]
    },
    {
     "name": "stdout",
     "output_type": "stream",
     "text": [
      " ab+c*\n"
     ]
    }
   ],
   "source": [
    "#infix to postfix\n",
    "def prec(e):\n",
    "    if e==\"^\":\n",
    "        return 3\n",
    "    if e==\"*\" or e==\"/\":\n",
    "        return 2\n",
    "    if e==\"+\" or e==\"-\":\n",
    "        return 1\n",
    "    else:\n",
    "        return 0\n",
    "def asoc(e):\n",
    "    if e=='^':\n",
    "        return 'R'\n",
    "    else:\n",
    "\n",
    "        return 'L'\n",
    "    \n",
    "exp=input()\n",
    "s=[]\n",
    "result=\" \"\n",
    "for e in exp:\n",
    "   # print(e)\n",
    "    if e.isalnum():\n",
    "        result +=e\n",
    "    elif e=='(': \n",
    "        s.append(e)\n",
    "    elif e==')':\n",
    "       while s[-1]!='(':\n",
    "         result +=s.pop()\n",
    "       s.pop()\n",
    "    else:\n",
    "        while s and prec(e)<=prec(s[-1]) and asoc(e)=='L':\n",
    "            result +=s.pop()\n",
    "        s.append(e)\n",
    "while s:\n",
    "    result+= s.pop()\n",
    "\n",
    "print(result)\n",
    "     "
   ]
  },
  {
   "cell_type": "markdown",
   "id": "ab5293e4-42f1-4102-9e34-d6664ba2b4ef",
   "metadata": {},
   "source": [
    "in a arcade game,there is aking who got spelled by witch that whenever he eat he have to take care of what is sequence of his \n",
    "food intake\n",
    "if he eats similar food one after other it will cancel out the its effect and total energy was decreased.\n",
    "your task is to determine the total energy of the king after his meal\n",
    "\n",
    "example:\n",
    "[\"apple\",\"dal\",\"chapati\",\"rice\",\"apple\",\"apple\",\"dal\",\"rice\",\"dal\",\"chapati\",\"chapati\"]\n",
    "\n",
    "consider that energy released by each item will be same which is 1 unit\n",
    "\n",
    "so the total energy intake is 6 units as per above example.\n",
    "[\"apple\",\"dal\",\"chapati\",\"dal\",\"rice\",\"dal\"]\n",
    "\n",
    "write a code to find the energy stored by the king after have all the food.\n"
   ]
  },
  {
   "cell_type": "code",
   "execution_count": 27,
   "id": "94b5aa95-b954-46f0-836b-e3fee6a6afd8",
   "metadata": {},
   "outputs": [
    {
     "name": "stdin",
     "output_type": "stream",
     "text": [
      " A D C R R A A D R D C C\n"
     ]
    },
    {
     "name": "stdout",
     "output_type": "stream",
     "text": [
      "['A', 'D', 'C', 'R', 'R', 'A', 'A', 'D', 'R', 'D', 'C', 'C']\n",
      "6 ['A', 'D', 'C', 'D', 'R', 'D']\n"
     ]
    }
   ],
   "source": [
    "a=[item for item in input().split()]\n",
    "print(a)\n",
    "s=[]\n",
    "for item in a:\n",
    "    if not s:\n",
    "        s.append(item)\n",
    "    elif s[-1]==item:\n",
    "        s.pop()\n",
    "    else:\n",
    "        s.append(item)    \n",
    "        \n",
    "print(len(s),s)"
   ]
  },
  {
   "cell_type": "code",
   "execution_count": 24,
   "id": "bcc16fa4-e482-4a8f-b8e4-3b835ffe592e",
   "metadata": {},
   "outputs": [
    {
     "name": "stdin",
     "output_type": "stream",
     "text": [
      "  this(is a {car)}\n"
     ]
    },
    {
     "name": "stdout",
     "output_type": "stream",
     "text": [
      "invalid string\n"
     ]
    }
   ],
   "source": [
    "a=input()\n",
    "s=[]\n",
    "for e in a:\n",
    "    if e=='(' or e=='[' or e=='{':\n",
    "        s.append(e)\n",
    "    elif (e==')'and s[-1]=='(') or (e==']'and s[-1]=='[') or (e=='}'and s[-1]=='{'):\n",
    "        s.pop()        \n",
    "    else:\n",
    "        continue\n",
    "if not s:\n",
    "   print(\"valid string\")\n",
    "else:\n",
    "   print(\"invalid string\")\n",
    "    "
   ]
  },
  {
   "cell_type": "code",
   "execution_count": 26,
   "id": "24175d1a-4ccb-44a5-968b-d14cb0bc6b7f",
   "metadata": {},
   "outputs": [
    {
     "name": "stdout",
     "output_type": "stream",
     "text": [
      "5\n",
      "4\n",
      "3\n",
      "2\n",
      "1\n"
     ]
    },
    {
     "data": {
      "text/plain": [
       "0"
      ]
     },
     "execution_count": 26,
     "metadata": {},
     "output_type": "execute_result"
    }
   ],
   "source": [
    "#recurrsion using function\n",
    "def fun(x):\n",
    "  if x==0: #base class\n",
    "    return x #base class\n",
    "  print(x) #body of recurrsion\n",
    "  return fun(x-1)   \n",
    "fun(5)\n"
   ]
  },
  {
   "cell_type": "code",
   "execution_count": null,
   "id": "628f1d2f-59ac-41da-b64d-bfa4bfe2ab93",
   "metadata": {},
   "outputs": [],
   "source": []
  }
 ],
 "metadata": {
  "kernelspec": {
   "display_name": "Python 3 (ipykernel)",
   "language": "python",
   "name": "python3"
  },
  "language_info": {
   "codemirror_mode": {
    "name": "ipython",
    "version": 3
   },
   "file_extension": ".py",
   "mimetype": "text/x-python",
   "name": "python",
   "nbconvert_exporter": "python",
   "pygments_lexer": "ipython3",
   "version": "3.12.3"
  }
 },
 "nbformat": 4,
 "nbformat_minor": 5
}
