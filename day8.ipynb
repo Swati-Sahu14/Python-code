{
 "cells": [
  {
   "cell_type": "code",
   "execution_count": 9,
   "id": "dce22f2e-1d5a-4be6-b4de-f269153179db",
   "metadata": {},
   "outputs": [
    {
     "name": "stdout",
     "output_type": "stream",
     "text": [
      "[1, 4, 5, 6, 7, 8, 9]\n"
     ]
    }
   ],
   "source": [
    "#bubble sort\n",
    "arr=[5,4,8,1,9,6,7]\n",
    "for i in range(0,len(arr)):\n",
    "    for j in range(0,len(arr)-1):\n",
    "        if arr[j]>arr[j+1]:\n",
    "            temp=arr[j]\n",
    "            arr[j]=arr[j+1]\n",
    "            arr[j+1]=temp\n",
    "print(arr)\n"
   ]
  },
  {
   "cell_type": "code",
   "execution_count": 19,
   "id": "fe949b2a-df21-4f51-a4a9-68268d8c5e9f",
   "metadata": {},
   "outputs": [
    {
     "name": "stdout",
     "output_type": "stream",
     "text": [
      "[1, 4, 5, 6, 7, 8, 9]\n"
     ]
    }
   ],
   "source": [
    "#insertion\n",
    "arr=[5,4,8,1,9,6,7]\n",
    "for i in range(1,len(arr)):\n",
    "    temp=arr[i]\n",
    "    j=i-1\n",
    "    while j>=0 and temp<arr[j]:\n",
    "        arr[j+1]=arr[j]\n",
    "        j -=1\n",
    "    arr[j+1] = temp\n",
    "    \n",
    "print(arr)\n",
    "\n"
   ]
  },
  {
   "cell_type": "code",
   "execution_count": 26,
   "id": "58bd31da-84c8-4cb2-beec-fd6e0790c939",
   "metadata": {},
   "outputs": [
    {
     "name": "stdout",
     "output_type": "stream",
     "text": [
      "[1, 4, 5, 6, 7, 8, 9]\n"
     ]
    }
   ],
   "source": [
    "#selection sort\n",
    "arr=[5,4,8,1,9,6,7]\n",
    "\n",
    "for i in range(0,len(arr)):\n",
    "    min_idx=i\n",
    "    for j in range(i+1,len(arr)):\n",
    "       if arr[min_idx]>arr[j]:\n",
    "           min_idx=j\n",
    "    temp=arr[i]\n",
    "    arr[i]=arr[min_idx]\n",
    "    arr[min_idx]=temp\n",
    "\n",
    "print(arr)\n",
    "        \n",
    " "
   ]
  },
  {
   "cell_type": "code",
   "execution_count": 6,
   "id": "65f1bc83-cc03-41fe-99db-3a40ec1f14cb",
   "metadata": {},
   "outputs": [
    {
     "name": "stdout",
     "output_type": "stream",
     "text": [
      "0 0 0\n",
      "0 1 1\n",
      "0 2 1\n",
      "0 3 3\n",
      "0 4 3\n",
      "0 5 3\n",
      "0 6 3\n",
      "[1, 4, 8, 5, 9, 6, 7]\n",
      "1 1 1\n",
      "1 2 1\n",
      "1 3 1\n",
      "1 4 1\n",
      "1 5 1\n",
      "1 6 1\n",
      "[1, 4, 8, 5, 9, 6, 7]\n",
      "2 2 2\n",
      "2 3 3\n",
      "2 4 3\n",
      "2 5 3\n",
      "2 6 3\n",
      "[1, 4, 5, 8, 9, 6, 7]\n",
      "3 3 3\n",
      "3 4 3\n",
      "3 5 5\n",
      "3 6 5\n",
      "[1, 4, 5, 6, 9, 8, 7]\n",
      "4 4 4\n",
      "4 5 5\n",
      "4 6 6\n",
      "[1, 4, 5, 6, 7, 8, 9]\n",
      "5 5 5\n",
      "5 6 5\n",
      "[1, 4, 5, 6, 7, 8, 9]\n",
      "6 6 6\n",
      "[1, 4, 5, 6, 7, 8, 9]\n"
     ]
    }
   ],
   "source": [
    "#selection sort\n",
    "arr=[5,4,8,1,9,6,7]\n",
    "for j in range(0,len(arr)):\n",
    "    a=j\n",
    "    for i in range(j,len(arr)):\n",
    "        if arr[i]<arr[a]:\n",
    "            a=i\n",
    "        print(j,i,a)\n",
    "    arr[a],arr[j]=arr[j],arr[a]\n",
    "    print(arr)\n",
    "        "
   ]
  },
  {
   "cell_type": "markdown",
   "id": "de57c4c5-d68f-46d4-9421-e1408eb92784",
   "metadata": {},
   "source": [
    "binary search\n",
    " 1) sort in ascending order\n",
    " 2) divide it and find the mid by low+high/2\n",
    " 3) compare with the search element\n"
   ]
  },
  {
   "cell_type": "code",
   "execution_count": 8,
   "id": "23d37102-fca7-4340-b251-974ddf7f0d76",
   "metadata": {},
   "outputs": [
    {
     "name": "stdout",
     "output_type": "stream",
     "text": [
      "[1, 3, 4, 5, 6, 7, 8, 9]\n"
     ]
    },
    {
     "name": "stdin",
     "output_type": "stream",
     "text": [
      " 4\n"
     ]
    },
    {
     "name": "stdout",
     "output_type": "stream",
     "text": [
      "index of elememt is 2\n",
      "low 0 high 8 mid 4\n",
      "low 0 high 3 mid 1\n",
      "low 2 high 3 mid 2\n",
      "element found at 2\n"
     ]
    }
   ],
   "source": [
    "#binary search\n",
    "l=[1,3,4,9,6,7,8,5]\n",
    "l.sort()\n",
    "print(l)\n",
    "low=0\n",
    "high=len(l)\n",
    "src=int(input())\n",
    "try:\n",
    "    print(\"index of elememt is\",l.index(src))\n",
    "except:\n",
    "    print(\"item not in list\")\n",
    "flag=0\n",
    "while low<=high:\n",
    "    mid = int(low+(high-low)/2)\n",
    "    print(\"low\",low,\"high\",high,\"mid\",mid)\n",
    "    if src<l[mid]:\n",
    "      high=mid-1\n",
    "    elif src>l[mid]:\n",
    "       low=mid+1\n",
    "    else:\n",
    "      flag=1\n",
    "      break;\n",
    "if flag==1:\n",
    "    print(\"element found at\",mid)\n",
    "else:\n",
    "    print(\"element not found\")"
   ]
  },
  {
   "cell_type": "code",
   "execution_count": 19,
   "id": "e06bd205-5a2e-427b-a22d-d1cf2ff06ef9",
   "metadata": {},
   "outputs": [
    {
     "name": "stdin",
     "output_type": "stream",
     "text": [
      " thi[s is ( a{}]}car\n"
     ]
    },
    {
     "name": "stdout",
     "output_type": "stream",
     "text": [
      "valid string\n"
     ]
    }
   ],
   "source": [
    "#important question\n",
    "s=input()\n",
    "x=y=z=0\n",
    "for c in s:\n",
    "    match (c):\n",
    "     case '(':x+=1\n",
    "     case ')':x-=1\n",
    "     case '{':y+=1\n",
    "     case '}':y-=1\n",
    "     case '[':z+=1\n",
    "     case ']':z-=1\n",
    "     case _:continue\n",
    "\n",
    "if x+y+z==0:\n",
    "    print(\"valid string\")\n",
    "else:\n",
    "    print(\"invalid string\")\n",
    "         "
   ]
  },
  {
   "cell_type": "code",
   "execution_count": 11,
   "id": "43e43c03-7fdc-45a7-b7b3-5dc4bbb0d738",
   "metadata": {},
   "outputs": [
    {
     "name": "stdout",
     "output_type": "stream",
     "text": [
      "item added to the stack\n",
      "item added to the stack\n",
      "item added to the stack\n",
      "item added to the stack\n",
      "[2, 3, 5, 4]\n",
      "item removed from the stack\n",
      "[2, 3, 5]\n"
     ]
    }
   ],
   "source": [
    "#stack\n",
    "def add(E):\n",
    "    s.append(E)\n",
    "    print(\"item added to the stack\") \n",
    "def delete():\n",
    "    s.pop()\n",
    "    print(\"item removed from the stack\")\n",
    "\n",
    "s=[]\n",
    "add(2)\n",
    "add(3)\n",
    "add(5)\n",
    "add(4)\n",
    "print(s)\n",
    "\n",
    "delete()\n",
    "print(s)\n",
    "\n",
    "    "
   ]
  },
  {
   "cell_type": "code",
   "execution_count": 20,
   "id": "6f22f226-77f1-41a1-b1cd-6a128a67fedd",
   "metadata": {},
   "outputs": [
    {
     "name": "stdout",
     "output_type": "stream",
     "text": [
      "item added to the queue\n",
      "item added to the queue\n",
      "item added to the queue\n",
      "item added to the queue\n",
      "[2, 3, 5, 4]\n",
      "the deleted item is\n",
      "[3, 5, 4]\n",
      "the deleted item is\n",
      "[5, 4]\n"
     ]
    }
   ],
   "source": [
    "#queue\n",
    "def add(E):\n",
    "    q.append(E)\n",
    "    print(\"item added to the queue\") \n",
    "\n",
    "def delete():\n",
    "    q.pop(0)\n",
    "    print(\"the deleted item is\")\n",
    "    \n",
    "q=[]\n",
    "add(2)\n",
    "add(3)\n",
    "add(5)\n",
    "add(4)\n",
    "print(q)\n",
    "\n",
    "delete()\n",
    "print(q)\n",
    "delete()\n",
    "print(q)\n",
    "\n",
    "\n",
    "    \n",
    "\n"
   ]
  },
  {
   "cell_type": "code",
   "execution_count": null,
   "id": "136a3d84-7031-467e-8ce5-86eed50c72e6",
   "metadata": {},
   "outputs": [],
   "source": []
  }
 ],
 "metadata": {
  "kernelspec": {
   "display_name": "Python 3 (ipykernel)",
   "language": "python",
   "name": "python3"
  },
  "language_info": {
   "codemirror_mode": {
    "name": "ipython",
    "version": 3
   },
   "file_extension": ".py",
   "mimetype": "text/x-python",
   "name": "python",
   "nbconvert_exporter": "python",
   "pygments_lexer": "ipython3",
   "version": "3.12.3"
  }
 },
 "nbformat": 4,
 "nbformat_minor": 5
}
