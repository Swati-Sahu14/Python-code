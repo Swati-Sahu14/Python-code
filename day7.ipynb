{
 "cells": [
  {
   "cell_type": "code",
   "execution_count": 63,
   "id": "1c215388-1871-4f2d-bcf0-c630b666e6bf",
   "metadata": {},
   "outputs": [
    {
     "name": "stdout",
     "output_type": "stream",
     "text": [
      "19\n"
     ]
    }
   ],
   "source": [
    "# find the maximum sum of any 3 consecutive elements of this array\n",
    "\n",
    "L=[2,4,6,1,3,7,4,6,9,3,6,8,3,6,4,1,3,9,6,4,5,6,8,3,7,3,6,8]\n",
    "#n=int(input(\"enter the limit:\"))\n",
    "max=0\n",
    "for x in range(0,len(L)-3):\n",
    "    sum=L[x]+L[x+1]+L[x+2]\n",
    "    if (max<sum):\n",
    "        max=sum\n",
    "print(max)\n",
    "        "
   ]
  },
  {
   "cell_type": "code",
   "execution_count": 80,
   "id": "5150e0d5-ca8a-4113-8289-f1aa8ffc9c3e",
   "metadata": {},
   "outputs": [
    {
     "name": "stdin",
     "output_type": "stream",
     "text": [
      "enter the number: 4\n"
     ]
    },
    {
     "name": "stdout",
     "output_type": "stream",
     "text": [
      "26\n"
     ]
    }
   ],
   "source": [
    "L=[2,4,6,1,3,7,4,6,9,3,6,8,3,6,4,1,3,9,6,4,5,6,8,3,7,3,6,8]\n",
    "max=0\n",
    "n=int(input(\"enter the number:\"))\n",
    "for x in range(0,len(L)-n-1):\n",
    "    s=0\n",
    "    for y in range(0,n):\n",
    "        s=s+L[x+y]\n",
    "    if max<s:\n",
    "        max=s\n",
    "        \n",
    "print(max)\n",
    "        "
   ]
  },
  {
   "cell_type": "code",
   "execution_count": 86,
   "id": "ea7e9ac2-4ed5-4100-a01b-a64793949d5b",
   "metadata": {},
   "outputs": [
    {
     "name": "stdin",
     "output_type": "stream",
     "text": [
      "enter the number: 3\n"
     ]
    },
    {
     "name": "stdout",
     "output_type": "stream",
     "text": [
      "19\n"
     ]
    }
   ],
   "source": [
    "L=[2,4,6,1,3,7,4,6,9,3,6,8,3,6,4,1,3,9,6,4,5,6,8,3,7,3,6,8]\n",
    "max=sum=0\n",
    "n=int(input(\"enter the number:\"))\n",
    "for i in range(0,n):\n",
    "    sum=sum+L[i]\n",
    "    \n",
    "for x in range(0,len(L)-n-1):\n",
    "    if max<sum:\n",
    "        max=sum\n",
    "    sum=sum+L[x+n]-L[x]\n",
    "print(max)\n",
    "\n",
    "        "
   ]
  },
  {
   "cell_type": "code",
   "execution_count": 7,
   "id": "6245b5c0-a488-4e75-b425-feb7b4ac59f8",
   "metadata": {},
   "outputs": [
    {
     "name": "stdout",
     "output_type": "stream",
     "text": [
      "[1, 2, 3, 4, 5, 6, 7, 8, 9]\n"
     ]
    }
   ],
   "source": [
    "L=[3,5,2,6,7,4,8,1,9]\n",
    "L.sort()\n",
    "print(L)"
   ]
  },
  {
   "cell_type": "code",
   "execution_count": 35,
   "id": "316c6e9a-0712-4947-8a74-e1745cc6539e",
   "metadata": {},
   "outputs": [
    {
     "name": "stdout",
     "output_type": "stream",
     "text": [
      "[1, 2, 3, 4, 5, 6, 7, 8, 9]\n"
     ]
    }
   ],
   "source": [
    "#bubble sort\n",
    "\n",
    "l=[3,5,2,6,7,4,8,1,9]\n",
    "for i in range(0,len(l)):\n",
    "    for j in range(i+1,len(l)-1):\n",
    "        if l[i]>l[j]:\n",
    "            l[i],l[j]=l[j],l[i]\n",
    "print(l)\n"
   ]
  },
  {
   "cell_type": "code",
   "execution_count": 34,
   "id": "77d97056-e17b-4aa8-8250-ecab5a153b84",
   "metadata": {},
   "outputs": [
    {
     "name": "stdout",
     "output_type": "stream",
     "text": [
      "[1, 2, 3, 4, 5, 6, 7, 8, 9]\n"
     ]
    }
   ],
   "source": [
    "l=[3,5,2,6,7,4,8,1,9]\n",
    "for i in range(0,len(l)):\n",
    "    for j in range(i+1,len(l)-1):\n",
    "        if l[i]>l[j]:\n",
    "            temp=l[i]\n",
    "            l[i]=l[j]\n",
    "            l[j]=temp\n",
    "print(l)"
   ]
  },
  {
   "cell_type": "code",
   "execution_count": null,
   "id": "3da44e26-2b05-42c2-919f-d16aa6f43b84",
   "metadata": {},
   "outputs": [],
   "source": []
  }
 ],
 "metadata": {
  "kernelspec": {
   "display_name": "Python 3 (ipykernel)",
   "language": "python",
   "name": "python3"
  },
  "language_info": {
   "codemirror_mode": {
    "name": "ipython",
    "version": 3
   },
   "file_extension": ".py",
   "mimetype": "text/x-python",
   "name": "python",
   "nbconvert_exporter": "python",
   "pygments_lexer": "ipython3",
   "version": "3.12.3"
  }
 },
 "nbformat": 4,
 "nbformat_minor": 5
}
