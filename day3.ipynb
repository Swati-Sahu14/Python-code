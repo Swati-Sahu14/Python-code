{
 "cells": [
  {
   "cell_type": "code",
   "execution_count": 3,
   "id": "f89b54f8-599d-45d6-acfc-c220c1f61e6f",
   "metadata": {},
   "outputs": [
    {
     "name": "stdout",
     "output_type": "stream",
     "text": [
      "1\n",
      "2\n",
      "6\n",
      "5\n",
      "4\n"
     ]
    }
   ],
   "source": [
    "a=[1,2,6,5,4] \n",
    "for i in range(0,5):\n",
    "  print(a[i]) #a is a arrayname and i is a indexes\n"
   ]
  },
  {
   "cell_type": "markdown",
   "id": "277cc530-933e-4101-88ae-80fd6868a3bb",
   "metadata": {},
   "source": [
    "pop- to pull element of the list\n",
    "remove and return item at index(default last)\n",
    "raise indexerror if list is empty\n",
    "sort- sort the list in ascending order and return none\n",
    "descending return=true\n",
    "append- append object to the end of the list\n",
    "extend- extend list by appending elements from the iterable\n",
    "index- return first index of value\n",
    "count- return no of occurrence of values\n",
    "insert will insert the objects before index\n",
    "remove- remove first occurence of value\n"
   ]
  },
  {
   "cell_type": "code",
   "execution_count": 28,
   "id": "46f93789-37ea-4607-a4fc-b3932d137bff",
   "metadata": {
    "scrolled": true
   },
   "outputs": [
    {
     "name": "stdout",
     "output_type": "stream",
     "text": [
      "[1, 2, 3, 4, 5]\n",
      "4\n",
      "[1, 2, 3, 5, 10]\n",
      "[1, 2, 3, 5, 10, 3, 7, 3]\n",
      "2\n",
      "3\n",
      "1\n",
      "[1, 2, 3, 5, 9, 10, 3, 7, 3]\n",
      "[1, 2, 3, 3, 3, 5, 7, 9, 10]\n",
      "[10, 9, 7, 5, 3, 3, 3, 2, 1]\n",
      "9\n",
      "[10, 9, 7, 5, 3, 3, 3, 2, 1, 1, 2, 3, 4, 5]\n",
      "[10, 9, 7, 5, 3, 3, 3, 2, 1, 1, 2, 3, 4, 5, 1, 2, 3, 4, 5]\n"
     ]
    }
   ],
   "source": [
    "a=[1,2,3,4,5]\n",
    "b=a.copy()\n",
    "print(b)\n",
    "\n",
    "c=b.pop(3)\n",
    "print(c)\n",
    "\n",
    "b.append(10)\n",
    "print(b)\n",
    "b.append(3)\n",
    "b.append(7)\n",
    "b.append(3)\n",
    "print(b)\n",
    "\n",
    "print(b.index(3))\n",
    "\n",
    "print(b.count(3))\n",
    "print(b.count(10))\n",
    "\n",
    "b.insert(4,9)\n",
    "print(b)\n",
    "\n",
    "b.sort()\n",
    "print(b)\n",
    "b.sort(reverse=True)\n",
    "print(b)\n",
    "\n",
    "print(len(b))\n",
    "\n",
    "b.extend(a)\n",
    "print(b)\n",
    "print(b+a)\n",
    "\n"
   ]
  },
  {
   "cell_type": "code",
   "execution_count": 9,
   "id": "10800fcd-5d90-4ddc-a7b9-bb19299955cf",
   "metadata": {},
   "outputs": [
    {
     "name": "stdout",
     "output_type": "stream",
     "text": [
      "10\n",
      "9\n",
      "7\n",
      "5\n",
      "3\n",
      "3\n",
      "3\n",
      "2\n",
      "1\n",
      "1\n",
      "2\n",
      "3\n",
      "4\n",
      "5\n",
      "1\n",
      "2\n",
      "3\n",
      "4\n",
      "5\n"
     ]
    }
   ],
   "source": [
    "a=[10, 9, 7, 5, 3, 3, 3, 2, 1, 1, 2, 3, 4, 5, 1, 2, 3, 4, 5]\n",
    "for x in a:\n",
    "    print(x)"
   ]
  },
  {
   "cell_type": "code",
   "execution_count": 15,
   "id": "897e6c79-dd44-419f-a83f-41edc4d18f20",
   "metadata": {},
   "outputs": [
    {
     "name": "stdin",
     "output_type": "stream",
     "text": [
      "enter the elements of the list: 1 2 3 4\n"
     ]
    },
    {
     "name": "stdout",
     "output_type": "stream",
     "text": [
      "['1', '2', '3', '4']\n"
     ]
    }
   ],
   "source": [
    "L=[item for item in (input(\"enter the elements of the list:\").split())]\n",
    "print(L)"
   ]
  },
  {
   "cell_type": "code",
   "execution_count": 16,
   "id": "b76b2b41-19fe-4f06-8651-c42b8a675f12",
   "metadata": {},
   "outputs": [
    {
     "name": "stdin",
     "output_type": "stream",
     "text": [
      "enter the elements of the list: 1 2 3 4\n"
     ]
    },
    {
     "name": "stdout",
     "output_type": "stream",
     "text": [
      "[1, 2, 3, 4]\n"
     ]
    }
   ],
   "source": [
    "L=[int(item) for item in (input(\"enter the elements of the list:\").split())]\n",
    "print(L)"
   ]
  },
  {
   "cell_type": "markdown",
   "id": "bd7aa06f-c459-48be-bfdf-c230286af95e",
   "metadata": {},
   "source": [
    "tuples\n",
    "for data security we use tuples\n",
    "updation  append cannot be done in tuples"
   ]
  },
  {
   "cell_type": "code",
   "execution_count": 18,
   "id": "3a16a116-d5f0-470b-b30c-09d1816a49a7",
   "metadata": {},
   "outputs": [
    {
     "name": "stdout",
     "output_type": "stream",
     "text": [
      "[1, 2, 3, 4]\n"
     ]
    }
   ],
   "source": [
    "a=list([1,2,3,4])\n",
    "print(a)"
   ]
  },
  {
   "cell_type": "code",
   "execution_count": 30,
   "id": "879ee9b0-5f3c-4c05-96f7-f4f04b327c33",
   "metadata": {},
   "outputs": [
    {
     "name": "stdout",
     "output_type": "stream",
     "text": [
      "(1, 2, 3, 4, 5, 'swa')\n",
      "[1, 2, 3, 4, 5, 'swa']\n",
      "(1, 2, 3, 4, 5, 'swati')\n",
      "5\n"
     ]
    }
   ],
   "source": [
    "a=(1,2,3,4,5,\"swa\")\n",
    "print(a)\n",
    "b=list(a)\n",
    "print(b)\n",
    "b[5]=\"swati\"\n",
    "a=tuple(b)\n",
    "print(a)\n",
    "print(a[-2])"
   ]
  },
  {
   "cell_type": "code",
   "execution_count": 31,
   "id": "57a643fe-43f4-4c63-adc3-c557445ee749",
   "metadata": {},
   "outputs": [
    {
     "name": "stdout",
     "output_type": "stream",
     "text": [
      "9\n",
      "8\n",
      "7\n",
      "6\n",
      "5\n",
      "4\n",
      "3\n",
      "2\n",
      "1\n"
     ]
    }
   ],
   "source": [
    "a=(1,2,3,4,5,6,7,8,9)\n",
    "for x in range(-1,-1*(len(a)+1),-1):\n",
    "    print(a[x])"
   ]
  },
  {
   "cell_type": "code",
   "execution_count": 32,
   "id": "784ec830-48cd-490c-b52a-bdeabe90d208",
   "metadata": {},
   "outputs": [
    {
     "name": "stdout",
     "output_type": "stream",
     "text": [
      "9\n",
      "8\n",
      "7\n",
      "6\n",
      "5\n",
      "4\n",
      "3\n",
      "2\n",
      "1\n"
     ]
    }
   ],
   "source": [
    "a=(1,2,3,4,5,6,7,8,9)\n",
    "for x in range(0,len(a)):\n",
    "    print(a[-1*(x+1)])"
   ]
  },
  {
   "cell_type": "code",
   "execution_count": 38,
   "id": "15cddf4b-a6e5-41ad-b940-c82409b85f3b",
   "metadata": {},
   "outputs": [
    {
     "name": "stdout",
     "output_type": "stream",
     "text": [
      "1\n",
      "2\n",
      "3\n",
      "4\n",
      "5\n",
      "6\n",
      "7\n",
      "8\n",
      "9\n"
     ]
    }
   ],
   "source": [
    "a=(1,2,3,4,5,6,7,8,9)\n",
    "for x in range(len(a),0,-1):\n",
    "    print(a[-1*x])"
   ]
  },
  {
   "cell_type": "markdown",
   "id": "5ad2d4f8-8cd4-46d8-8918-a979a5c248ca",
   "metadata": {},
   "source": [
    "dictionary\n",
    "key and values\n",
    "key values pair\n",
    "we use {} in dictionary"
   ]
  },
  {
   "cell_type": "code",
   "execution_count": 44,
   "id": "02fc7507-aea8-49d6-bbdd-22f96d983146",
   "metadata": {},
   "outputs": [
    {
     "name": "stdout",
     "output_type": "stream",
     "text": [
      "{1: 'swa', 2: 'ro', 3: 'swe'}\n",
      "ro\n",
      "dict_keys([1, 2, 3])\n",
      "dict_values(['swa', 'ro', 'swe'])\n",
      "dict_items([(1, 'swa'), (2, 'ro'), (3, 'swe')])\n",
      "None\n"
     ]
    }
   ],
   "source": [
    "d={1:\"swa\",2:\"ro\",3:\"swe\"}\n",
    "print(d)\n",
    "\n",
    "print(d[2])\n",
    "print(d.keys())\n",
    "print(d.values())\n",
    "print(d.items())\n",
    "print(d.get(4))\n",
    "\n",
    "\n",
    "\n"
   ]
  },
  {
   "cell_type": "code",
   "execution_count": 49,
   "id": "17f04c20-cb5c-4ffe-a8b3-74e26133fa38",
   "metadata": {},
   "outputs": [
    {
     "ename": "SyntaxError",
     "evalue": "invalid syntax (3465487152.py, line 6)",
     "output_type": "error",
     "traceback": [
      "\u001b[1;36m  Cell \u001b[1;32mIn[49], line 6\u001b[1;36m\u001b[0m\n\u001b[1;33m    D=d.keys:d.values\u001b[0m\n\u001b[1;37m            ^\u001b[0m\n\u001b[1;31mSyntaxError\u001b[0m\u001b[1;31m:\u001b[0m invalid syntax\n"
     ]
    }
   ],
   "source": [
    "#write a program to take keys and values from the user and add it to the dictionary if key is not present in dict we have to add key\n",
    "#value and otherwise print key already exist and print its value after adding key we have to print the dict\n",
    "\n",
    "a=(input(\"enter the key\"))\n",
    "b=(input(\"enter the value\"))\n",
    "D=d.keys:d.values\n",
    "print(D)\n"
   ]
  },
  {
   "cell_type": "code",
   "execution_count": 13,
   "id": "d8f086ed-68dc-4fef-8342-7efce56e73a4",
   "metadata": {},
   "outputs": [
    {
     "name": "stdin",
     "output_type": "stream",
     "text": [
      " 4\n",
      " 2\n"
     ]
    },
    {
     "name": "stdout",
     "output_type": "stream",
     "text": [
      "2.0\n",
      "division sucessfull:\n",
      "2.0\n",
      "error handled:\n",
      "we have recieved the result as: 2.0\n"
     ]
    }
   ],
   "source": [
    "a=int(input())\n",
    "b=int(input())\n",
    "try:\n",
    "    c=a/b\n",
    "    print(c)\n",
    "except:\n",
    "    print(\"we cannot divide by zero\")\n",
    "    c=0\n",
    "else:\n",
    "    print(\"division sucessfull:\")\n",
    "    print(c)\n",
    "finally:\n",
    "    print(\"error handled:\")\n",
    "print(\"we have recieved the result as:\",c)\n",
    "    \n",
    "    \n"
   ]
  },
  {
   "cell_type": "code",
   "execution_count": 15,
   "id": "d54fc1d9-5e49-4463-b329-099675a120a1",
   "metadata": {},
   "outputs": [
    {
     "name": "stdin",
     "output_type": "stream",
     "text": [
      " 10\n"
     ]
    },
    {
     "name": "stdout",
     "output_type": "stream",
     "text": [
      "there is no such index\n"
     ]
    }
   ],
   "source": [
    "a=[1,2,3,4,5,6,7,8,9,0]\n",
    "i=int(input())\n",
    "try:\n",
    "    print(a[i])\n",
    "except:\n",
    "    print(\"there is no such index\")\n",
    "\n"
   ]
  },
  {
   "cell_type": "code",
   "execution_count": 29,
   "id": "73d63654-6ee4-4055-877d-3fc08fc7cdab",
   "metadata": {},
   "outputs": [
    {
     "name": "stdin",
     "output_type": "stream",
     "text": [
      " heelo\n",
      " 7\n"
     ]
    },
    {
     "name": "stdout",
     "output_type": "stream",
     "text": [
      "can't be able to convert\n",
      "code execution done\n"
     ]
    }
   ],
   "source": [
    "try:\n",
    "    a=input()\n",
    "    b=input()\n",
    "    c=int(a)/int(b)\n",
    "    x=\"hello\"+3\n",
    "except ValueError:\n",
    "    print(\"can't be able to convert\")\n",
    "except ZeroDivisionError:\n",
    "    print(\"can't divide by zero\")\n",
    "except:\n",
    "    print(\"unknown error\")\n",
    "else:\n",
    "    print(\"no error\")\n",
    "finally:\n",
    "    print(\"code execution done\")\n",
    "    "
   ]
  },
  {
   "cell_type": "code",
   "execution_count": null,
   "id": "f73a2456-2b76-4052-a5c0-2c3cc741b6ad",
   "metadata": {},
   "outputs": [],
   "source": []
  }
 ],
 "metadata": {
  "kernelspec": {
   "display_name": "Python 3 (ipykernel)",
   "language": "python",
   "name": "python3"
  },
  "language_info": {
   "codemirror_mode": {
    "name": "ipython",
    "version": 3
   },
   "file_extension": ".py",
   "mimetype": "text/x-python",
   "name": "python",
   "nbconvert_exporter": "python",
   "pygments_lexer": "ipython3",
   "version": "3.12.3"
  }
 },
 "nbformat": 4,
 "nbformat_minor": 5
}
